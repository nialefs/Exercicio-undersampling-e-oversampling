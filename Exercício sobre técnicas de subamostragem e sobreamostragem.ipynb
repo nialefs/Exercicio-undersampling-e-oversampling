{
 "cells": [
  {
   "cell_type": "markdown",
   "id": "b68477dc",
   "metadata": {},
   "source": [
    "## Exercício sobre técnicas de subamostragem e sobreamostragem utilizando o algoritmo Random Forest"
   ]
  },
  {
   "cell_type": "code",
   "execution_count": 22,
   "id": "482b7bf4",
   "metadata": {},
   "outputs": [],
   "source": [
    "import pandas as pd \n",
    "import numpy as np \n",
    "import random"
   ]
  },
  {
   "cell_type": "code",
   "execution_count": 23,
   "id": "26274ddf",
   "metadata": {},
   "outputs": [
    {
     "data": {
      "text/html": [
       "<div>\n",
       "<style scoped>\n",
       "    .dataframe tbody tr th:only-of-type {\n",
       "        vertical-align: middle;\n",
       "    }\n",
       "\n",
       "    .dataframe tbody tr th {\n",
       "        vertical-align: top;\n",
       "    }\n",
       "\n",
       "    .dataframe thead th {\n",
       "        text-align: right;\n",
       "    }\n",
       "</style>\n",
       "<table border=\"1\" class=\"dataframe\">\n",
       "  <thead>\n",
       "    <tr style=\"text-align: right;\">\n",
       "      <th></th>\n",
       "      <th>feedbacks</th>\n",
       "      <th>reviews</th>\n",
       "      <th>blacklist</th>\n",
       "      <th>mextraversion</th>\n",
       "      <th>cextraversion</th>\n",
       "      <th>sextraversion</th>\n",
       "      <th>mneuroticism</th>\n",
       "      <th>cneuroticism</th>\n",
       "      <th>sneuroticism</th>\n",
       "      <th>mconscientiousness</th>\n",
       "      <th>...</th>\n",
       "      <th>need_practicaly</th>\n",
       "      <th>need_selfexpression</th>\n",
       "      <th>need_stability</th>\n",
       "      <th>need_structure</th>\n",
       "      <th>value_conservation</th>\n",
       "      <th>value_openess</th>\n",
       "      <th>value_hedonism</th>\n",
       "      <th>value_selfenhancement</th>\n",
       "      <th>value_selftranscendence</th>\n",
       "      <th>reputation</th>\n",
       "    </tr>\n",
       "  </thead>\n",
       "  <tbody>\n",
       "    <tr>\n",
       "      <th>2</th>\n",
       "      <td>0</td>\n",
       "      <td>49</td>\n",
       "      <td>N</td>\n",
       "      <td>4.181642</td>\n",
       "      <td>0.6</td>\n",
       "      <td>1</td>\n",
       "      <td>2.777591</td>\n",
       "      <td>0.6</td>\n",
       "      <td>0</td>\n",
       "      <td>4.085460</td>\n",
       "      <td>...</td>\n",
       "      <td>0.696359</td>\n",
       "      <td>0.698786</td>\n",
       "      <td>0.756963</td>\n",
       "      <td>0.660119</td>\n",
       "      <td>0.619416</td>\n",
       "      <td>0.746372</td>\n",
       "      <td>0.640073</td>\n",
       "      <td>0.598037</td>\n",
       "      <td>0.828716</td>\n",
       "      <td>Bom</td>\n",
       "    </tr>\n",
       "    <tr>\n",
       "      <th>3</th>\n",
       "      <td>0</td>\n",
       "      <td>56</td>\n",
       "      <td>N</td>\n",
       "      <td>4.007042</td>\n",
       "      <td>0.6</td>\n",
       "      <td>0</td>\n",
       "      <td>2.698650</td>\n",
       "      <td>0.6</td>\n",
       "      <td>0</td>\n",
       "      <td>4.187338</td>\n",
       "      <td>...</td>\n",
       "      <td>0.715300</td>\n",
       "      <td>0.664572</td>\n",
       "      <td>0.728806</td>\n",
       "      <td>0.660740</td>\n",
       "      <td>0.588969</td>\n",
       "      <td>0.735915</td>\n",
       "      <td>0.644465</td>\n",
       "      <td>0.603042</td>\n",
       "      <td>0.809379</td>\n",
       "      <td>Bom</td>\n",
       "    </tr>\n",
       "    <tr>\n",
       "      <th>4</th>\n",
       "      <td>0</td>\n",
       "      <td>50</td>\n",
       "      <td>N</td>\n",
       "      <td>4.538230</td>\n",
       "      <td>0.7</td>\n",
       "      <td>1</td>\n",
       "      <td>2.298492</td>\n",
       "      <td>0.5</td>\n",
       "      <td>1</td>\n",
       "      <td>5.085833</td>\n",
       "      <td>...</td>\n",
       "      <td>0.720150</td>\n",
       "      <td>0.694678</td>\n",
       "      <td>0.669652</td>\n",
       "      <td>0.627962</td>\n",
       "      <td>0.553523</td>\n",
       "      <td>0.766618</td>\n",
       "      <td>0.655470</td>\n",
       "      <td>0.645042</td>\n",
       "      <td>0.826039</td>\n",
       "      <td>Bom</td>\n",
       "    </tr>\n",
       "    <tr>\n",
       "      <th>5</th>\n",
       "      <td>72</td>\n",
       "      <td>0</td>\n",
       "      <td>N</td>\n",
       "      <td>4.692854</td>\n",
       "      <td>0.3</td>\n",
       "      <td>0</td>\n",
       "      <td>2.987231</td>\n",
       "      <td>0.5</td>\n",
       "      <td>0</td>\n",
       "      <td>4.831320</td>\n",
       "      <td>...</td>\n",
       "      <td>0.739793</td>\n",
       "      <td>0.637027</td>\n",
       "      <td>0.697221</td>\n",
       "      <td>0.638587</td>\n",
       "      <td>0.675289</td>\n",
       "      <td>0.752234</td>\n",
       "      <td>0.679661</td>\n",
       "      <td>0.674438</td>\n",
       "      <td>0.813391</td>\n",
       "      <td>Bom</td>\n",
       "    </tr>\n",
       "    <tr>\n",
       "      <th>6</th>\n",
       "      <td>76</td>\n",
       "      <td>0</td>\n",
       "      <td>N</td>\n",
       "      <td>4.966753</td>\n",
       "      <td>0.3</td>\n",
       "      <td>0</td>\n",
       "      <td>3.048730</td>\n",
       "      <td>0.5</td>\n",
       "      <td>0</td>\n",
       "      <td>4.725294</td>\n",
       "      <td>...</td>\n",
       "      <td>0.718530</td>\n",
       "      <td>0.616852</td>\n",
       "      <td>0.692761</td>\n",
       "      <td>0.646695</td>\n",
       "      <td>0.677245</td>\n",
       "      <td>0.699785</td>\n",
       "      <td>0.648607</td>\n",
       "      <td>0.616075</td>\n",
       "      <td>0.816841</td>\n",
       "      <td>Bom</td>\n",
       "    </tr>\n",
       "    <tr>\n",
       "      <th>...</th>\n",
       "      <td>...</td>\n",
       "      <td>...</td>\n",
       "      <td>...</td>\n",
       "      <td>...</td>\n",
       "      <td>...</td>\n",
       "      <td>...</td>\n",
       "      <td>...</td>\n",
       "      <td>...</td>\n",
       "      <td>...</td>\n",
       "      <td>...</td>\n",
       "      <td>...</td>\n",
       "      <td>...</td>\n",
       "      <td>...</td>\n",
       "      <td>...</td>\n",
       "      <td>...</td>\n",
       "      <td>...</td>\n",
       "      <td>...</td>\n",
       "      <td>...</td>\n",
       "      <td>...</td>\n",
       "      <td>...</td>\n",
       "      <td>...</td>\n",
       "    </tr>\n",
       "    <tr>\n",
       "      <th>5803</th>\n",
       "      <td>49</td>\n",
       "      <td>0</td>\n",
       "      <td>N</td>\n",
       "      <td>6.069133</td>\n",
       "      <td>0.5</td>\n",
       "      <td>0</td>\n",
       "      <td>1.931712</td>\n",
       "      <td>0.5</td>\n",
       "      <td>1</td>\n",
       "      <td>5.616294</td>\n",
       "      <td>...</td>\n",
       "      <td>0.669362</td>\n",
       "      <td>0.602225</td>\n",
       "      <td>0.711554</td>\n",
       "      <td>0.644777</td>\n",
       "      <td>0.666970</td>\n",
       "      <td>0.742045</td>\n",
       "      <td>0.605412</td>\n",
       "      <td>0.650072</td>\n",
       "      <td>0.828953</td>\n",
       "      <td>Bom</td>\n",
       "    </tr>\n",
       "    <tr>\n",
       "      <th>5804</th>\n",
       "      <td>60</td>\n",
       "      <td>0</td>\n",
       "      <td>N</td>\n",
       "      <td>5.056324</td>\n",
       "      <td>0.5</td>\n",
       "      <td>0</td>\n",
       "      <td>3.152737</td>\n",
       "      <td>0.5</td>\n",
       "      <td>1</td>\n",
       "      <td>5.072437</td>\n",
       "      <td>...</td>\n",
       "      <td>0.698962</td>\n",
       "      <td>0.597975</td>\n",
       "      <td>0.690498</td>\n",
       "      <td>0.614929</td>\n",
       "      <td>0.614349</td>\n",
       "      <td>0.747452</td>\n",
       "      <td>0.640656</td>\n",
       "      <td>0.654348</td>\n",
       "      <td>0.801171</td>\n",
       "      <td>Ruim</td>\n",
       "    </tr>\n",
       "    <tr>\n",
       "      <th>5805</th>\n",
       "      <td>78</td>\n",
       "      <td>0</td>\n",
       "      <td>N</td>\n",
       "      <td>5.095499</td>\n",
       "      <td>0.4</td>\n",
       "      <td>0</td>\n",
       "      <td>3.535562</td>\n",
       "      <td>0.5</td>\n",
       "      <td>1</td>\n",
       "      <td>4.692843</td>\n",
       "      <td>...</td>\n",
       "      <td>0.710999</td>\n",
       "      <td>0.692540</td>\n",
       "      <td>0.728816</td>\n",
       "      <td>0.622679</td>\n",
       "      <td>0.708117</td>\n",
       "      <td>0.795567</td>\n",
       "      <td>0.697466</td>\n",
       "      <td>0.673904</td>\n",
       "      <td>0.832073</td>\n",
       "      <td>Bom</td>\n",
       "    </tr>\n",
       "    <tr>\n",
       "      <th>5806</th>\n",
       "      <td>95</td>\n",
       "      <td>0</td>\n",
       "      <td>N</td>\n",
       "      <td>4.780761</td>\n",
       "      <td>0.4</td>\n",
       "      <td>0</td>\n",
       "      <td>3.198620</td>\n",
       "      <td>0.5</td>\n",
       "      <td>1</td>\n",
       "      <td>4.563306</td>\n",
       "      <td>...</td>\n",
       "      <td>0.724970</td>\n",
       "      <td>0.718304</td>\n",
       "      <td>0.722504</td>\n",
       "      <td>0.573924</td>\n",
       "      <td>0.668312</td>\n",
       "      <td>0.805183</td>\n",
       "      <td>0.770677</td>\n",
       "      <td>0.710048</td>\n",
       "      <td>0.819924</td>\n",
       "      <td>Ruim</td>\n",
       "    </tr>\n",
       "    <tr>\n",
       "      <th>5807</th>\n",
       "      <td>53</td>\n",
       "      <td>0</td>\n",
       "      <td>N</td>\n",
       "      <td>4.525406</td>\n",
       "      <td>0.3</td>\n",
       "      <td>0</td>\n",
       "      <td>3.236950</td>\n",
       "      <td>0.5</td>\n",
       "      <td>1</td>\n",
       "      <td>4.488098</td>\n",
       "      <td>...</td>\n",
       "      <td>0.721490</td>\n",
       "      <td>0.601475</td>\n",
       "      <td>0.696407</td>\n",
       "      <td>0.642956</td>\n",
       "      <td>0.656245</td>\n",
       "      <td>0.712400</td>\n",
       "      <td>0.623931</td>\n",
       "      <td>0.633121</td>\n",
       "      <td>0.792092</td>\n",
       "      <td>Ruim</td>\n",
       "    </tr>\n",
       "  </tbody>\n",
       "</table>\n",
       "<p>5806 rows × 75 columns</p>\n",
       "</div>"
      ],
      "text/plain": [
       "      feedbacks  reviews blacklist  mextraversion  cextraversion  \\\n",
       "2             0       49         N       4.181642            0.6   \n",
       "3             0       56         N       4.007042            0.6   \n",
       "4             0       50         N       4.538230            0.7   \n",
       "5            72        0         N       4.692854            0.3   \n",
       "6            76        0         N       4.966753            0.3   \n",
       "...         ...      ...       ...            ...            ...   \n",
       "5803         49        0         N       6.069133            0.5   \n",
       "5804         60        0         N       5.056324            0.5   \n",
       "5805         78        0         N       5.095499            0.4   \n",
       "5806         95        0         N       4.780761            0.4   \n",
       "5807         53        0         N       4.525406            0.3   \n",
       "\n",
       "      sextraversion  mneuroticism  cneuroticism  sneuroticism  \\\n",
       "2                 1      2.777591           0.6             0   \n",
       "3                 0      2.698650           0.6             0   \n",
       "4                 1      2.298492           0.5             1   \n",
       "5                 0      2.987231           0.5             0   \n",
       "6                 0      3.048730           0.5             0   \n",
       "...             ...           ...           ...           ...   \n",
       "5803              0      1.931712           0.5             1   \n",
       "5804              0      3.152737           0.5             1   \n",
       "5805              0      3.535562           0.5             1   \n",
       "5806              0      3.198620           0.5             1   \n",
       "5807              0      3.236950           0.5             1   \n",
       "\n",
       "      mconscientiousness  ...  need_practicaly  need_selfexpression  \\\n",
       "2               4.085460  ...         0.696359             0.698786   \n",
       "3               4.187338  ...         0.715300             0.664572   \n",
       "4               5.085833  ...         0.720150             0.694678   \n",
       "5               4.831320  ...         0.739793             0.637027   \n",
       "6               4.725294  ...         0.718530             0.616852   \n",
       "...                  ...  ...              ...                  ...   \n",
       "5803            5.616294  ...         0.669362             0.602225   \n",
       "5804            5.072437  ...         0.698962             0.597975   \n",
       "5805            4.692843  ...         0.710999             0.692540   \n",
       "5806            4.563306  ...         0.724970             0.718304   \n",
       "5807            4.488098  ...         0.721490             0.601475   \n",
       "\n",
       "      need_stability  need_structure  value_conservation  value_openess  \\\n",
       "2           0.756963        0.660119            0.619416       0.746372   \n",
       "3           0.728806        0.660740            0.588969       0.735915   \n",
       "4           0.669652        0.627962            0.553523       0.766618   \n",
       "5           0.697221        0.638587            0.675289       0.752234   \n",
       "6           0.692761        0.646695            0.677245       0.699785   \n",
       "...              ...             ...                 ...            ...   \n",
       "5803        0.711554        0.644777            0.666970       0.742045   \n",
       "5804        0.690498        0.614929            0.614349       0.747452   \n",
       "5805        0.728816        0.622679            0.708117       0.795567   \n",
       "5806        0.722504        0.573924            0.668312       0.805183   \n",
       "5807        0.696407        0.642956            0.656245       0.712400   \n",
       "\n",
       "      value_hedonism  value_selfenhancement  value_selftranscendence  \\\n",
       "2           0.640073               0.598037                 0.828716   \n",
       "3           0.644465               0.603042                 0.809379   \n",
       "4           0.655470               0.645042                 0.826039   \n",
       "5           0.679661               0.674438                 0.813391   \n",
       "6           0.648607               0.616075                 0.816841   \n",
       "...              ...                    ...                      ...   \n",
       "5803        0.605412               0.650072                 0.828953   \n",
       "5804        0.640656               0.654348                 0.801171   \n",
       "5805        0.697466               0.673904                 0.832073   \n",
       "5806        0.770677               0.710048                 0.819924   \n",
       "5807        0.623931               0.633121                 0.792092   \n",
       "\n",
       "      reputation  \n",
       "2            Bom  \n",
       "3            Bom  \n",
       "4            Bom  \n",
       "5            Bom  \n",
       "6            Bom  \n",
       "...          ...  \n",
       "5803         Bom  \n",
       "5804        Ruim  \n",
       "5805         Bom  \n",
       "5806        Ruim  \n",
       "5807        Ruim  \n",
       "\n",
       "[5806 rows x 75 columns]"
      ]
     },
     "execution_count": 23,
     "metadata": {},
     "output_type": "execute_result"
    }
   ],
   "source": [
    "# Base de dados para prever a confiança de usuários baseado em traços de personalidade extraídos de textos\n",
    "\n",
    "ebay = pd.read_csv('csv_result-ebay_confianca_completo.csv')\n",
    "ebay"
   ]
  },
  {
   "cell_type": "code",
   "execution_count": 24,
   "id": "ec1feebf",
   "metadata": {},
   "outputs": [],
   "source": [
    "ebay['blacklist'] = ebay['blacklist'] == 'S'"
   ]
  },
  {
   "cell_type": "code",
   "execution_count": 25,
   "id": "aa11267a",
   "metadata": {},
   "outputs": [
    {
     "name": "stderr",
     "output_type": "stream",
     "text": [
      "C:\\Users\\aline\\anaconda3\\lib\\site-packages\\seaborn\\_decorators.py:36: FutureWarning: Pass the following variable as a keyword arg: x. From version 0.12, the only valid positional argument will be `data`, and passing other arguments without an explicit keyword will result in an error or misinterpretation.\n",
      "  warnings.warn(\n"
     ]
    },
    {
     "data": {
      "image/png": "[encoded data removed]",
      "text/plain": [
       "<Figure size 432x288 with 1 Axes>"
      ]
     },
     "metadata": {
      "needs_background": "light"
     },
     "output_type": "display_data"
    }
   ],
   "source": [
    "import seaborn as sns\n",
    "sns.countplot(ebay['reputation']);"
   ]
  },
  {
   "cell_type": "code",
   "execution_count": 26,
   "id": "24a1bbb5",
   "metadata": {},
   "outputs": [],
   "source": [
    "X = ebay.iloc[:,0:74].values\n",
    "y = ebay.iloc[:,74].values"
   ]
  },
  {
   "cell_type": "code",
   "execution_count": 27,
   "id": "98351a78",
   "metadata": {},
   "outputs": [
    {
     "data": {
      "text/plain": [
       "(array(['Bom', 'Ruim'], dtype=object), array([4299, 1507], dtype=int64))"
      ]
     },
     "execution_count": 27,
     "metadata": {},
     "output_type": "execute_result"
    }
   ],
   "source": [
    "np.unique(y, return_counts=True)"
   ]
  },
  {
   "cell_type": "markdown",
   "id": "523b8bef",
   "metadata": {},
   "source": [
    "### Montando a base de treinamento e de teste"
   ]
  },
  {
   "cell_type": "code",
   "execution_count": 28,
   "id": "ac9f7d44",
   "metadata": {},
   "outputs": [],
   "source": [
    "from sklearn.model_selection import train_test_split"
   ]
  },
  {
   "cell_type": "code",
   "execution_count": 29,
   "id": "a32fde06",
   "metadata": {},
   "outputs": [],
   "source": [
    "X_treinamento, X_teste, y_treinamento, y_teste = train_test_split(X, y, test_size = 0.2, stratify = y)"
   ]
  },
  {
   "cell_type": "code",
   "execution_count": 30,
   "id": "a4487911",
   "metadata": {},
   "outputs": [
    {
     "data": {
      "text/plain": [
       "((4644, 74), (4644,), (1162, 74), (1162,))"
      ]
     },
     "execution_count": 30,
     "metadata": {},
     "output_type": "execute_result"
    }
   ],
   "source": [
    "X_treinamento.shape, y_treinamento.shape, X_teste.shape, y_teste.shape"
   ]
  },
  {
   "cell_type": "markdown",
   "id": "9a9383c8",
   "metadata": {},
   "source": [
    "### Classificação com Random Forest"
   ]
  },
  {
   "cell_type": "code",
   "execution_count": 31,
   "id": "9a2ac35f",
   "metadata": {},
   "outputs": [],
   "source": [
    "from sklearn.ensemble import RandomForestClassifier"
   ]
  },
  {
   "cell_type": "code",
   "execution_count": 32,
   "id": "9af4dd2f",
   "metadata": {},
   "outputs": [
    {
     "data": {
      "text/plain": [
       "0.7461273666092944"
      ]
     },
     "execution_count": 32,
     "metadata": {},
     "output_type": "execute_result"
    }
   ],
   "source": [
    "modelo = RandomForestClassifier()\n",
    "modelo.fit(X_treinamento, y_treinamento)\n",
    "previsoes = modelo.predict(X_teste)\n",
    "\n",
    "from sklearn.metrics import accuracy_score\n",
    "accuracy_score(previsoes, y_teste)"
   ]
  },
  {
   "cell_type": "markdown",
   "id": "22100718",
   "metadata": {},
   "source": [
    "### Subamostragem (undersampling) com Tomek links"
   ]
  },
  {
   "cell_type": "code",
   "execution_count": 33,
   "id": "e872e2e2",
   "metadata": {},
   "outputs": [],
   "source": [
    "from imblearn.under_sampling import TomekLinks"
   ]
  },
  {
   "cell_type": "code",
   "execution_count": 34,
   "id": "b7a68260",
   "metadata": {},
   "outputs": [],
   "source": [
    "tl = TomekLinks(sampling_strategy='majority')\n",
    "X_under, y_under = tl.fit_resample(X, y)"
   ]
  },
  {
   "cell_type": "code",
   "execution_count": 35,
   "id": "f685b918",
   "metadata": {},
   "outputs": [],
   "source": [
    "X_treinamento_u, X_teste_u, y_treinamento_u, y_teste_u = train_test_split(X_under, y_under, \n",
    "                                                                          test_size = 0.2, stratify = y_under)"
   ]
  },
  {
   "cell_type": "code",
   "execution_count": 36,
   "id": "694bdf80",
   "metadata": {},
   "outputs": [
    {
     "data": {
      "text/plain": [
       "0.7297047970479705"
      ]
     },
     "execution_count": 36,
     "metadata": {},
     "output_type": "execute_result"
    }
   ],
   "source": [
    "modelo_u = RandomForestClassifier()\n",
    "modelo_u.fit(X_treinamento_u, y_treinamento_u)\n",
    "previsoes_u = modelo_u.predict(X_teste_u)\n",
    "accuracy_score(previsoes_u, y_teste_u)"
   ]
  },
  {
   "cell_type": "markdown",
   "id": "e43b2bc1",
   "metadata": {},
   "source": [
    "### Sobreamostragem (oversampling) com SMOTE"
   ]
  },
  {
   "cell_type": "code",
   "execution_count": 37,
   "id": "48d893a2",
   "metadata": {},
   "outputs": [],
   "source": [
    "from imblearn.over_sampling import SMOTE"
   ]
  },
  {
   "cell_type": "code",
   "execution_count": 38,
   "id": "e89eb569",
   "metadata": {},
   "outputs": [],
   "source": [
    "smote = SMOTE(sampling_strategy='minority')\n",
    "X_over, y_over = smote.fit_resample(X, y)"
   ]
  },
  {
   "cell_type": "code",
   "execution_count": 39,
   "id": "aa3537c6",
   "metadata": {},
   "outputs": [],
   "source": [
    "X_treinamento_o, X_teste_o, y_treinamento_o, y_teste_o = train_test_split(X_over, y_over, \n",
    "                                                                          test_size = 0.2, stratify = y_over)"
   ]
  },
  {
   "cell_type": "code",
   "execution_count": 41,
   "id": "257256fe",
   "metadata": {},
   "outputs": [
    {
     "data": {
      "text/plain": [
       "0.8133720930232559"
      ]
     },
     "execution_count": 41,
     "metadata": {},
     "output_type": "execute_result"
    }
   ],
   "source": [
    "modelo_o = RandomForestClassifier()\n",
    "modelo_o.fit(X_treinamento_o, y_treinamento_o)\n",
    "previsoes_o = modelo_o.predict(X_teste_o)\n",
    "accuracy_score(previsoes_o, y_teste_o)"
   ]
  },
  {
   "cell_type": "code",
   "execution_count": null,
   "id": "693c4041",
   "metadata": {},
   "outputs": [],
   "source": []
  }
 ],
 "metadata": {
  "kernelspec": {
   "display_name": "Python 3 (ipykernel)",
   "language": "python",
   "name": "python3"
  },
  "language_info": {
   "codemirror_mode": {
    "name": "ipython",
    "version": 3
   },
   "file_extension": ".py",
   "mimetype": "text/x-python",
   "name": "python",
   "nbconvert_exporter": "python",
   "pygments_lexer": "ipython3",
   "version": "3.9.12"
  }
 },
 "nbformat": 4,
 "nbformat_minor": 5
}
